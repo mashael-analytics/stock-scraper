{
  "nbformat": 4,
  "nbformat_minor": 0,
  "metadata": {
    "colab": {
      "provenance": []
    },
    "kernelspec": {
      "name": "python3",
      "display_name": "Python 3"
    },
    "language_info": {
      "name": "python"
    }
  },
  "cells": [
    {
      "cell_type": "code",
      "source": [
        "import requests\n",
        "from bs4 import BeautifulSoup\n",
        "import csv\n",
        "from datetime import datetime"
      ],
      "metadata": {
        "id": "p7_UjxK4FrBI"
      },
      "execution_count": 16,
      "outputs": []
    },
    {
      "cell_type": "code",
      "source": [
        "tickers = [\"AAPL\", \"MSFT\", \"GOOGL\", \"TSLA\", \"AMZN\"]\n",
        "\n",
        "headers = {\n",
        "    \"User-Agent\": \"Mozilla/5.0 (Windows NT 10.0; Win64; x64) \"\n",
        "                  \"AppleWebKit/537.36 (KHTML, like Gecko) \"\n",
        "                  \"Chrome/115.0 Safari/537.36\"\n",
        "}"
      ],
      "metadata": {
        "id": "GMvBOUMFJs2c"
      },
      "execution_count": 17,
      "outputs": []
    },
    {
      "cell_type": "code",
      "source": [
        "def get_stock_data(ticker):\n",
        "    url = f\"https://finance.yahoo.com/quote/{ticker}\"\n",
        "    response = requests.get(url, headers=headers)\n",
        "\n",
        "    if response.status_code != 200:\n",
        "        print(f\"Failed to retrieve data for {ticker} (status code: {response.status_code})\")\n",
        "        return None\n",
        "    soup = BeautifulSoup(response.text, \"html.parser\")\n",
        "\n",
        "    price_tag = soup.find(\"fin-streamer\", {\"data-field\": \"regularMarketPrice\"})\n",
        "    change_tag = soup.find(\"fin-streamer\", {\"data-field\": \"regularMarketChange\"})\n",
        "    percent_change_tag = soup.find(\"fin-streamer\", {\"data-field\": \"regularMarketChangePercent\"})\n",
        "\n",
        "    if price_tag and change_tag and percent_change_tag:\n",
        "        price = price_tag.text.strip()\n",
        "        change = change_tag.text.strip()\n",
        "        percent_change = percent_change_tag.text.strip()\n",
        "        return (price, change, percent_change)\n",
        "    else:\n",
        "        print(f\"Could not find complete data for {ticker}\")\n",
        "        return None"
      ],
      "metadata": {
        "id": "bsBX8Y71J2F9"
      },
      "execution_count": 18,
      "outputs": []
    },
    {
      "cell_type": "code",
      "source": [
        "while True:\n",
        "    stock_data = []\n",
        "    print(f\"\\nFetching stock data at {datetime.now().strftime('%Y-%m-%d %H:%M:%S')}\\n\")\n",
        "\n",
        "    for ticker in tickers:\n",
        "        data = get_stock_data(ticker)\n",
        "        if data:\n",
        "            price, change, percent_change = data\n",
        "            print(f\"{ticker}: ${price} USD | Change: {change} ({percent_change})\")\n",
        "            stock_data.append([ticker, price, change, percent_change])\n",
        "        else:\n",
        "            stock_data.append([ticker, \"N/A\", \"N/A\", \"N/A\"])\n",
        "\n",
        "    filename = f\"stock_data_{datetime.now().strftime('%Y%m%d_%H%M%S')}.csv\"\n",
        "\n",
        "    with open(filename, mode='w', newline='') as file:\n",
        "        writer = csv.writer(file)\n",
        "        writer.writerow([\"Ticker\", \"Price (USD)\", \"Change\", \"Percent Change\"])\n",
        "        writer.writerows(stock_data)\n",
        "\n",
        "    print(f\"\\nData saved to {filename}\")\n",
        "\n",
        "\n",
        "    time.sleep(30)"
      ],
      "metadata": {
        "colab": {
          "base_uri": "https://localhost:8080/",
          "height": 349
        },
        "id": "PDhu66fwLQzr",
        "outputId": "520a4a45-e3a6-41bd-fc47-3a4b06420f0c"
      },
      "execution_count": 24,
      "outputs": [
        {
          "output_type": "stream",
          "name": "stdout",
          "text": [
            "\n",
            "Fetching stock data at 2025-09-17 14:58:05\n",
            "\n",
            "AAPL: $6,601.38 USD | Change: -5.38 (-0.47%)\n",
            "MSFT: $6,602.37 USD | Change: -4.39 ()\n",
            "GOOGL: $6,615.28 USD | Change: +30.99 (-0.17%)\n",
            "TSLA: $6,599.97 USD | Change: -6.79 (+1.06%)\n",
            "AMZN: $6,608.68 USD | Change: +1.92 (+2.52%)\n",
            "\n",
            "Data saved to stock_data_20250917_145809.csv\n"
          ]
        },
        {
          "output_type": "error",
          "ename": "KeyboardInterrupt",
          "evalue": "",
          "traceback": [
            "\u001b[0;31m---------------------------------------------------------------------------\u001b[0m",
            "\u001b[0;31mKeyboardInterrupt\u001b[0m                         Traceback (most recent call last)",
            "\u001b[0;32m/tmp/ipython-input-2040536454.py\u001b[0m in \u001b[0;36m<cell line: 0>\u001b[0;34m()\u001b[0m\n\u001b[1;32m     22\u001b[0m \u001b[0;34m\u001b[0m\u001b[0m\n\u001b[1;32m     23\u001b[0m     \u001b[0;31m# انتظر 60 ثانية قبل التحديث التالي\u001b[0m\u001b[0;34m\u001b[0m\u001b[0;34m\u001b[0m\u001b[0m\n\u001b[0;32m---> 24\u001b[0;31m     \u001b[0mtime\u001b[0m\u001b[0;34m.\u001b[0m\u001b[0msleep\u001b[0m\u001b[0;34m(\u001b[0m\u001b[0;36m60\u001b[0m\u001b[0;34m)\u001b[0m\u001b[0;34m\u001b[0m\u001b[0;34m\u001b[0m\u001b[0m\n\u001b[0m",
            "\u001b[0;31mKeyboardInterrupt\u001b[0m: "
          ]
        }
      ]
    }
  ]
}